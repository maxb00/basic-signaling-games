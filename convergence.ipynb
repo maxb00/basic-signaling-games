{
 "cells": [
  {
   "cell_type": "code",
   "execution_count": 21,
   "metadata": {},
   "outputs": [],
   "source": [
    "from game import World, Sender, Receiver\n",
    "import numpy as np\n",
    "import matplotlib.pyplot as plt\n",
    "import seaborn as sns\n",
    "import imageio.v2 as imageio\n",
    "from IPython.display import HTML\n",
    "from time import time\n",
    "import os"
   ]
  },
  {
   "cell_type": "code",
   "execution_count": 22,
   "metadata": {},
   "outputs": [],
   "source": [
    "def early_stop(epochs, rewards, threshold=0.95):\n",
    "    return np.sum(rewards[-epochs:]) / epochs > threshold"
   ]
  },
  {
   "cell_type": "code",
   "execution_count": 23,
   "metadata": {},
   "outputs": [],
   "source": [
    "def make_gif(filename_base, epochs, seed):\n",
    "    images = []\n",
    "    nm = filename_base.split('-')[-1]\n",
    "    for filename in [f'images/{nm}_{i}.png' for i in range(epochs) if i % 25 == 0]:\n",
    "        images.append(imageio.imread(filename))\n",
    "    if not os.path.exists(f'gifs/{seed}'):\n",
    "        os.mkdir(f'gifs/{seed}')\n",
    "    imageio.mimsave(f'gifs/{seed}/{filename_base}.gif', images, fps=10)"
   ]
  },
  {
   "cell_type": "code",
   "execution_count": 24,
   "metadata": {},
   "outputs": [],
   "source": [
    "def stress(n, epochs, states, signals, actions, initial_weights):\n",
    "    found = False\n",
    "    num_found = 0\n",
    "    for _ in range(n):\n",
    "        seed = np.floor(time()).astype(int)\n",
    "        W, S, R = World(states, seed), Sender(states, signals, initial_weights), Receiver(signals, actions, initial_weights)\n",
    "        past_rewards = 0\n",
    "        history = []\n",
    "        stopped = False\n",
    "        # stopped_at = -1\n",
    "        for epoch in range(epochs):\n",
    "            stimulus = W.get_state()\n",
    "            signal = S.get_signal(stimulus)\n",
    "            action = R.get_action(signal)\n",
    "            reward = W.evaluate(action)\n",
    "            past_rewards += reward\n",
    "            S.update(reward)\n",
    "            R.update(reward)\n",
    "\n",
    "            if epoch % 25 == 0:\n",
    "                plt.tight_layout(pad=0)\n",
    "                plot = sns.heatmap(\n",
    "                    # np.exp(R.action_weights) /\n",
    "                    # np.exp(R.action_weights).sum(axis=0),\n",
    "                    R.action_weights / R.action_weights.sum(axis=0),\n",
    "                    square=True, cbar=False, annot=True, fmt='.1f'\n",
    "                ).get_figure()\n",
    "                plt.xlabel('messages')\n",
    "                plt.ylabel('actions')\n",
    "                plt.title(f'Receiver\\'s weights, rollout {epoch}')\n",
    "                plt.savefig(f\"images/receiver_{epoch}.png\")\n",
    "                plt.clf()\n",
    "\n",
    "                plot = sns.heatmap(\n",
    "                    # np.exp(S.signal_weights) /\n",
    "                    # np.exp(S.signal_weights).sum(axis=0),\n",
    "                    S.signal_weights / S.signal_weights.sum(axis=0),\n",
    "                    square=True, cbar=False, annot=True, fmt='.1f'\n",
    "                ).get_figure()\n",
    "                plt.xlabel('world states')\n",
    "                plt.ylabel('messages')\n",
    "                plt.title(f'Sender\\'s weights, rollout {epoch}')\n",
    "                plt.savefig(f\"images/sender_{epoch}.png\")\n",
    "                plt.clf()\n",
    "\n",
    "            if epoch % 100 == 0:\n",
    "                # print(f'Epoch {epoch}, last 100 epochs reward: {past_rewards/100}')\n",
    "                # print(f\"Last State: {stimulus}, Signal: {signal}, Action: {action}, Reward: {reward}\")\n",
    "                history.append(past_rewards/100)\n",
    "                past_rewards = 0\n",
    "\n",
    "            if early_stop(7, history, 0.97):\n",
    "                # print(f'Early stop at epoch {epoch}')\n",
    "                # stopped_at = epoch\n",
    "                stopped = True\n",
    "                break\n",
    "\n",
    "        if not stopped and history[-1] < 0.8:\n",
    "            print(f'Possibility of no convergence at seed {seed}')\n",
    "            print(\"Making gifs...\")\n",
    "            make_gif(f'{states}-{actions}-{signals}-sender', epochs, seed)\n",
    "            make_gif(f'{states}-{actions}-{signals}-receiver', epochs, seed)\n",
    "            print(\"Observation to message mapping:\")\n",
    "            print(S.signal_weights.argmax(1))\n",
    "            print(\"Message to action mapping:\")\n",
    "            print(R.action_weights.argmax(1))\n",
    "            print(\"-\"*50)\n",
    "            num_found += 1\n",
    "            found = True\n",
    "\n",
    "\n",
    "    if not found:\n",
    "        print(f'No possibility of no convergence found for {states}-{actions}-{signals} after {n} {epochs}-epoch tries. Try increasing n.')\n",
    "    print(f'Found {num_found} cases of no convergence, out of {n} trials.')\n"
   ]
  },
  {
   "cell_type": "code",
   "execution_count": 25,
   "metadata": {},
   "outputs": [
    {
     "name": "stdout",
     "output_type": "stream",
     "text": [
      "No possibility of no convergence found for 3-3-3 after 15 10000-epoch tries. Try increasing n.\n",
      "Found 0 cases of no convergence, out of 15 trials.\n"
     ]
    },
    {
     "data": {
      "text/plain": [
       "<Figure size 640x480 with 0 Axes>"
      ]
     },
     "metadata": {},
     "output_type": "display_data"
    }
   ],
   "source": [
    "stress(15, 10000, 3, 3, 3, 1)"
   ]
  }
 ],
 "metadata": {
  "kernelspec": {
   "display_name": "signal",
   "language": "python",
   "name": "python3"
  },
  "language_info": {
   "codemirror_mode": {
    "name": "ipython",
    "version": 3
   },
   "file_extension": ".py",
   "mimetype": "text/x-python",
   "name": "python",
   "nbconvert_exporter": "python",
   "pygments_lexer": "ipython3",
   "version": "3.10.9"
  },
  "orig_nbformat": 4,
  "vscode": {
   "interpreter": {
    "hash": "6cc53ca4bcaf722c762c264fce9851c096d2b4ce79674ffe56f966359a856f76"
   }
  }
 },
 "nbformat": 4,
 "nbformat_minor": 2
}
