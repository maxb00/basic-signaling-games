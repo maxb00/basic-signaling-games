{
 "cells": [
  {
   "attachments": {},
   "cell_type": "markdown",
   "metadata": {},
   "source": [
    "# Setup 1: Predefined Regions and Sender Stimulus Generalization"
   ]
  },
  {
   "cell_type": "code",
   "execution_count": 3,
   "metadata": {},
   "outputs": [],
   "source": [
    "import numpy as np\n",
    "import matplotlib.pyplot as plt\n",
    "import imageio.v2 as imageio\n",
    "import seaborn as sns\n",
    "import os\n",
    "from IPython.display import HTML"
   ]
  },
  {
   "cell_type": "code",
   "execution_count": 4,
   "metadata": {},
   "outputs": [],
   "source": [
    "def stimgen(n: int) -> float:\n",
    "    # Gaussian with FWHM of 2.\n",
    "    return np.exp(- (n**2) / (4 / np.log(2)))"
   ]
  },
  {
   "cell_type": "code",
   "execution_count": 5,
   "metadata": {},
   "outputs": [],
   "source": [
    "class World:\n",
    "    def __init__(self, n_states: int, \n",
    "                 n_signals: int, n_actions: int, \n",
    "                 seed: int = 0, reward = (1, -1)) -> None:\n",
    "        self.setup = (n_signals, n_actions)\n",
    "        self.n_states = n_states\n",
    "        self.state = 0\n",
    "        self.random = np.random.RandomState(seed)\n",
    "        self.reward = reward\n",
    "\n",
    "    def get_state(self) -> int:\n",
    "        self.state = self.random.randint(self.n_states)\n",
    "        return self.state\n",
    "\n",
    "    def evaluate(self, action: int) -> int:\n",
    "        step = self.n_states / self.setup[0]\n",
    "        correct = self.state // step\n",
    "        return self.reward[0] if action == correct else -abs(self.reward[1])"
   ]
  },
  {
   "cell_type": "code",
   "execution_count": 6,
   "metadata": {},
   "outputs": [],
   "source": [
    "class Sender:\n",
    "    def __init__(self, n_stimuli: int, n_signals: int,\n",
    "                  q_not: float = 1e-6, stimgen: bool = False) -> None:\n",
    "        # n_stimuli: number of possible states in the world,\n",
    "        #            each corresponding to a stimulus\n",
    "        # n_signals: number of signals that can be sent in response,\n",
    "        #            usually equal to the number of states in the world\n",
    "        # q_not:     initial signal propensity values. Final value of null signal.\n",
    "        self.n_signals = n_signals + 1 # +1 here represents null signal.    \n",
    "        self.n_states  = n_stimuli\n",
    "        self.signal_weights = np.zeros((self.n_signals, n_stimuli))\n",
    "        self.rew_hist = np.zeros_like(self.signal_weights)\n",
    "        self.signal_weights.fill(q_not)\n",
    "        self.last_situation = (0, 0)\n",
    "        self.stimgen = stimgen\n",
    "\n",
    "    def get_signal(self, stimulus: int) -> int:\n",
    "        # exponential calculation\n",
    "        num = np.exp(self.signal_weights[:, stimulus])\n",
    "        den = np.sum(np.exp(self.signal_weights[:, stimulus]))\n",
    "        probabilities = num / den\n",
    "        signal = np.random.choice(self.n_signals, p=probabilities)\n",
    "        if signal == self.n_signals - 1:\n",
    "            return -1\n",
    "        self.last_situation = (stimulus, signal)\n",
    "        return signal\n",
    "\n",
    "    def update(self, reward: int) -> None:\n",
    "        # I am capping weight values at 308 due to overflow errors.\n",
    "        # They must similarly be floored at -323.\n",
    "        stimulus, signal = self.last_situation\n",
    "        q_last = self.signal_weights[signal, stimulus]\n",
    "        self.signal_weights[signal, stimulus] = max(-323, min(q_last + reward, 308))\n",
    "        self.rew_hist[signal, stimulus] += reward\n",
    "        # print(f\"{stimulus}: {reward}\")\n",
    "        # stimulus generalization\n",
    "        if self.stimgen:\n",
    "            l = r = stimulus\n",
    "            for i in range(1,4):\n",
    "                re = reward * stimgen(i)\n",
    "                # reward right\n",
    "                r += 1\n",
    "                if r >= self.n_states and self.n_signals > 3:\n",
    "                    # wrap around ONLY if there are more than 2 signals\n",
    "                    # regions cannot border each other twice\n",
    "                    r = 0\n",
    "                \n",
    "                if r < self.n_states:\n",
    "                    # print(f'{r}: {re}', end=' ')\n",
    "                    q_last = self.signal_weights[signal, r]\n",
    "                    self.signal_weights[signal, r] = max(-323, min(q_last + re, 308))\n",
    "                    self.rew_hist[signal, r] += re\n",
    "\n",
    "                # reward left\n",
    "                l -= 1\n",
    "                if l < 0 and self.n_signals > 3:\n",
    "                    l = self.n_states - 1\n",
    "                \n",
    "                if l >= 0:\n",
    "                    # print(f'{l}: {re}', end=' ')\n",
    "                    q_last = self.signal_weights[signal, l]\n",
    "                    self.signal_weights[signal, l] = max(-323, min(q_last + re, 308))\n",
    "                    self.rew_hist[signal, l] += re\n",
    "\n",
    "    def checkpoint(self):\n",
    "        self.rew_hist /= 100\n",
    "        sav = np.copy(self.rew_hist)\n",
    "        self.rew_hist = np.zeros_like(self.signal_weights)\n",
    "        return sav"
   ]
  },
  {
   "cell_type": "code",
   "execution_count": 7,
   "metadata": {},
   "outputs": [],
   "source": [
    "class Receiver:\n",
    "    def __init__(self, n_signals, n_actions, \n",
    "                 q_not: float = 1e-6, stimgen: bool = False) -> None:\n",
    "        # n_signals: number of signals that can be sent in response,\n",
    "        #            usually equal to the number of states in the world\n",
    "        # n_actions: number of actions that can be taken in response,\n",
    "        #            usually equal to the number of states in the world\n",
    "        # q_not:     initial action propensity value\n",
    "        self.n_actions = n_actions\n",
    "        self.n_signals = n_signals\n",
    "        self.action_weights = np.zeros((n_signals, n_actions))\n",
    "        self.rew_hist = np.zeros_like(self.action_weights)\n",
    "        self.action_weights.fill(q_not)\n",
    "        self.last_situation = (0, 0)\n",
    "        self.stimgen = stimgen\n",
    "\n",
    "    def get_action(self, signal: int) -> int:\n",
    "        # exponential calculation\n",
    "        num = np.exp(self.action_weights[signal, :])\n",
    "        den = np.sum(np.exp(self.action_weights[signal, :]))\n",
    "        probabilities = num / den\n",
    "        action = np.random.choice(self.n_actions, p=probabilities)\n",
    "        self.last_situation = (signal, action)\n",
    "\n",
    "        return action\n",
    "    \n",
    "    def update(self, reward: int) -> None:\n",
    "        signal, action = self.last_situation\n",
    "        q_last = self.action_weights[signal, action]\n",
    "        self.action_weights[signal, action] = max(-323, min(q_last + reward, 308))\n",
    "        self.rew_hist[signal, action] += reward\n",
    "        # print(f\"{action}: {reward}\")\n",
    "        # stimulus generalization\n",
    "        if self.stimgen: # Should always be False in setup 1\n",
    "            l = r = action\n",
    "            for i in range(1,4):\n",
    "                re = reward * stimgen(i)\n",
    "                # reward right\n",
    "                r += 1\n",
    "                if r >= self.n_actions and self.n_signals > 2:\n",
    "                    r = 0\n",
    "                \n",
    "                if r < self.n_actions:\n",
    "                    q_last = self.action_weights[signal, r]\n",
    "                    self.action_weights[signal, r] = max(-323, min(q_last + re, 308))\n",
    "                    self.rew_hist[signal, r] += re\n",
    "                    # print(f'{r}: {re}', end=' ')\n",
    "\n",
    "                # reward left\n",
    "                l -= 1\n",
    "                if l < 0 and self.n_signals > 2:\n",
    "                    l = self.n_actions - 1\n",
    "                \n",
    "                if l >= 0:\n",
    "                    q_last = self.action_weights[signal, l]\n",
    "                    self.action_weights[signal, l] = max(-323, min(q_last + re, 308))\n",
    "                    self.rew_hist[signal, l] = re\n",
    "                    # print(f'{l}: {re}', end=' ')\n",
    "\n",
    "    def checkpoint(self):\n",
    "        self.rew_hist /= 100\n",
    "        sav = np.copy(self.rew_hist)\n",
    "        self.rew_hist = np.zeros_like(self.action_weights)\n",
    "        return sav"
   ]
  },
  {
   "cell_type": "code",
   "execution_count": 8,
   "metadata": {},
   "outputs": [],
   "source": [
    "class History:\n",
    "    def __init__(self, epochs, states, signals, actions):\n",
    "        self.send_hist = np.zeros((epochs // 25, signals+1, states))\n",
    "        self.reci_hist = np.zeros((epochs // 25, signals, actions))\n",
    "        self.send_rew = np.zeros_like(self.send_hist)\n",
    "        self.reci_rew = np.zeros_like(self.reci_hist)\n",
    "        self.slows = np.zeros((epochs//100))\n",
    "        self.epochs = epochs\n",
    "        self.ep = 0\n",
    "        self.ep2 = 0\n",
    "\n",
    "    def add_25(self, send_weights, reci_weights):\n",
    "        self.send_hist[self.ep] = send_weights\n",
    "        self.reci_hist[self.ep] = reci_weights\n",
    "        self.ep += 1\n",
    "\n",
    "    def add_100(self, send_rew, reci_rew, slow):\n",
    "        self.send_rew[self.ep2] = send_rew\n",
    "        self.reci_rew[self.ep2] = reci_rew\n",
    "        self.slows[self.ep2] = slow\n",
    "        self.ep2 += 1\n",
    "\n",
    "    def make_gif(self, fps, seed, filename_base, html=False):\n",
    "        if not os.path.exists(f'./images'):\n",
    "            os.mkdir(f'images') \n",
    "        for i in range(self.ep):\n",
    "            fig, axs = plt.subplots(2, 1, figsize=(8, 6))\n",
    "            plt.tight_layout(pad=3)\n",
    "\n",
    "            sns.heatmap(\n",
    "                np.exp(self.send_hist[i]) /\n",
    "                np.exp(self.send_hist[i]).sum(axis=0),\n",
    "                linewidth=0.5, linecolor='white',\n",
    "                square=True, cbar=False, annot=True, fmt='.1f', ax=axs[0])\n",
    "            axs[0].set_ylabel('messages')\n",
    "            axs[0].set_xlabel('world states')\n",
    "            axs[0].set_title(f'Sender\\'s weights')\n",
    "\n",
    "            sns.heatmap(\n",
    "                (np.exp(self.reci_hist[i].T) /\n",
    "                np.exp(self.reci_hist[i].T).sum(axis=0)).T,\n",
    "                linewidth=0.5, linecolor='white',\n",
    "                square=True, cbar=False, annot=True, fmt='.1f', ax=axs[1])\n",
    "            axs[1].set_xlabel('actions')\n",
    "            axs[1].set_ylabel('messages')\n",
    "            axs[1].set_title(f'Receiver\\'s weights')\n",
    "            \n",
    "            \n",
    "            fig.suptitle(f'Rollout {i*25}')\n",
    "            plt.savefig(f\"./images/game_{i*25}.png\")\n",
    "            plt.close(fig)\n",
    "\n",
    "        images = []\n",
    "        for filename in [f'./images/game_{j*25}.png' for j in range(self.ep)]:\n",
    "            images.append(imageio.imread(filename))\n",
    "        imageio.mimsave(f'{filename_base}.gif', images, fps=fps)\n",
    "        if html:\n",
    "            display(HTML('<img src=\"{}\">'.format(f'{filename_base}.gif')))\n",
    "        # no return\n",
    "    \n",
    "    def print_send_map(self):\n",
    "        final = (self.send_hist[self.ep-1] == self.send_hist[self.ep-1].max(axis=0)[None, :]).astype(int)\n",
    "        print('a|s', end='')\n",
    "        for i in range(final.shape[1]):\n",
    "            print(f'{i:2}', end=' ')\n",
    "        print()\n",
    "        for i in range(final.shape[0]):\n",
    "            for j in range(-1, final.shape[1]):\n",
    "                if j == -1:\n",
    "                    print(f'{i:2}', end=' ')\n",
    "                else:\n",
    "                    print(f'{final[i, j]:2}', end=' ')\n",
    "            print()\n",
    "\n",
    "    def print_reci_map(self):\n",
    "        final = (self.reci_hist[-1].T == self.reci_hist[-1].T.max(axis=0)[None, :]).astype(int).T\n",
    "        print('m|a', end='')\n",
    "        for i in range(final.shape[1]):\n",
    "            print(f'{i:2}', end=' ')\n",
    "        print()\n",
    "        for i in range(final.shape[0]):\n",
    "            for j in range(-1, final.shape[1]):\n",
    "                if j == -1:\n",
    "                    print(f'{i:2}', end=' ')\n",
    "                else:\n",
    "                    print(f'{final[i, j]:2}', end=' ')\n",
    "            print()"
   ]
  },
  {
   "attachments": {},
   "cell_type": "markdown",
   "metadata": {},
   "source": [
    "## Setup 1: Experiment"
   ]
  },
  {
   "cell_type": "code",
   "execution_count": 39,
   "metadata": {},
   "outputs": [],
   "source": [
    "st = 20           # number of states\n",
    "si = 2            # number of signals\n",
    "ac = 2            # number of actions\n",
    "seed = 0          # random seed\n",
    "pos = 1           # positive reward\n",
    "neg = 1           # negative reward -  will always be cast as a negative number\n",
    "initial = 25      # initial weights\n",
    "epochs = 20000    # number of epochs\n",
    "gif_fps = 20      # gif fps"
   ]
  },
  {
   "cell_type": "code",
   "execution_count": 40,
   "metadata": {},
   "outputs": [],
   "source": [
    "W = World(st, si, ac, seed, (pos, neg))\n",
    "S = Sender(st, si, initial, stimgen=True)\n",
    "R = Receiver(si, ac, initial, stimgen=False)\n",
    "H = History(epochs, st, si, ac)"
   ]
  },
  {
   "cell_type": "code",
   "execution_count": 41,
   "metadata": {},
   "outputs": [],
   "source": [
    "slow = past_rewards = 0\n",
    "\n",
    "for epoch in range(epochs):\n",
    "    stimulus = W.get_state()\n",
    "    signal = S.get_signal(stimulus)\n",
    "    if signal != -1:\n",
    "        action = R.get_action(signal)\n",
    "        reward = W.evaluate(action)\n",
    "        past_rewards += reward\n",
    "        S.update(reward)\n",
    "        R.update(reward)\n",
    "    # else null action\n",
    "    \n",
    "    if epoch % 25 == 0:\n",
    "        # save history\n",
    "        H.add_25(S.signal_weights, R.action_weights)\n",
    "        \n",
    "\n",
    "    if epoch % 100 == 0:\n",
    "        slow = past_rewards / 100\n",
    "        past_rewards = 0\n",
    "        H.add_100(S.checkpoint(), R.checkpoint(), slow)"
   ]
  },
  {
   "cell_type": "code",
   "execution_count": 42,
   "metadata": {},
   "outputs": [
    {
     "name": "stdout",
     "output_type": "stream",
     "text": [
      "a|s 0  1  2  3  4  5  6  7  8  9 10 11 12 13 14 15 16 17 18 19 \n",
      " 0  0  0  0  0  0  0  0  0  0  1  1  1  1  1  1  1  1  1  1  1 \n",
      " 1  1  1  1  1  1  1  1  1  1  0  0  0  0  0  0  0  0  0  0  0 \n",
      " 2  0  0  0  0  0  0  0  0  0  0  0  0  0  0  0  0  0  0  0  0 \n"
     ]
    }
   ],
   "source": [
    "# final action-state mapping\n",
    "H.print_send_map()"
   ]
  },
  {
   "cell_type": "code",
   "execution_count": 43,
   "metadata": {},
   "outputs": [
    {
     "name": "stdout",
     "output_type": "stream",
     "text": [
      "m|a 0  1 \n",
      " 0  0  1 \n",
      " 1  1  0 \n"
     ]
    }
   ],
   "source": [
    "# final message-action mapping\n",
    "H.print_reci_map()"
   ]
  },
  {
   "cell_type": "code",
   "execution_count": 44,
   "metadata": {},
   "outputs": [
    {
     "data": {
      "text/html": [
       "<img src=\"./images/20-2-2_setup1.gif\">"
      ],
      "text/plain": [
       "<IPython.core.display.HTML object>"
      ]
     },
     "metadata": {},
     "output_type": "display_data"
    }
   ],
   "source": [
    "H.make_gif(gif_fps, seed, f'./images/{st}-{si}-{ac}_setup1', html=True)"
   ]
  }
 ],
 "metadata": {
  "kernelspec": {
   "display_name": "signal",
   "language": "python",
   "name": "python3"
  },
  "language_info": {
   "codemirror_mode": {
    "name": "ipython",
    "version": 3
   },
   "file_extension": ".py",
   "mimetype": "text/x-python",
   "name": "python",
   "nbconvert_exporter": "python",
   "pygments_lexer": "ipython3",
   "version": "3.10.9"
  },
  "orig_nbformat": 4
 },
 "nbformat": 4,
 "nbformat_minor": 2
}
