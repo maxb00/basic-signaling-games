{
 "cells": [
  {
   "attachments": {},
   "cell_type": "markdown",
   "metadata": {},
   "source": [
    "# Investigating Vagueness\n",
    "Can we create the conditions for a signaling system to learn to send the null signal in border states?"
   ]
  },
  {
   "cell_type": "code",
   "execution_count": 17,
   "metadata": {},
   "outputs": [],
   "source": [
    "import numpy as np\n",
    "import matplotlib.pyplot as plt\n",
    "import seaborn as sns\n",
    "import imageio.v2 as imageio\n",
    "from IPython.display import HTML\n",
    "import os"
   ]
  },
  {
   "cell_type": "code",
   "execution_count": 2,
   "metadata": {},
   "outputs": [],
   "source": [
    "def reward_dist(n: int) -> float:\n",
    "    return np.exp(- (n**2) / (4 / np.log(2)))"
   ]
  },
  {
   "cell_type": "code",
   "execution_count": 3,
   "metadata": {},
   "outputs": [],
   "source": [
    "def early_stop(epochs, rewards, threshold=0.95):\n",
    "    return np.sum(rewards[-epochs:]) / epochs > threshold"
   ]
  },
  {
   "cell_type": "code",
   "execution_count": 4,
   "metadata": {},
   "outputs": [],
   "source": [
    "def make_gif(filename_base, epochs, seed, fps=10):\n",
    "    images = []\n",
    "    nm = filename_base.split('-')[-1]\n",
    "    for filename in [f'images/{nm}_{i}.png' for i in range(epochs) if i % 25 == 0]:\n",
    "        images.append(imageio.imread(filename))\n",
    "    if not os.path.exists(f'gifs/{seed}'):\n",
    "        os.mkdir(f'gifs/{seed}')\n",
    "    imageio.mimsave(f'gifs/{seed}/{filename_base}.gif', images, fps=fps)\n",
    "    display(HTML('<img src=\"{}\">'.format(f'{filename_base}.gif')))"
   ]
  },
  {
   "attachments": {},
   "cell_type": "markdown",
   "metadata": {},
   "source": [
    "This next block is optional, but will make numpy warnings throw like errors that can be caught. I have used this mainly for debugging unexpected instances of infinity or NaN in Sender or Reciever weight calcultation, as `np.exp(309)` or `1e309` both overflow to infinity. "
   ]
  },
  {
   "cell_type": "code",
   "execution_count": 5,
   "metadata": {},
   "outputs": [],
   "source": [
    "import warnings\n",
    "np.seterr(all='warn')\n",
    "warnings.filterwarnings('error')"
   ]
  },
  {
   "attachments": {},
   "cell_type": "markdown",
   "metadata": {},
   "source": [
    "## World Setup\n",
    "Initially inspired by https://tomekkorbak.com/2019/10/08/lewis-signaling-games/."
   ]
  },
  {
   "cell_type": "code",
   "execution_count": 6,
   "metadata": {},
   "outputs": [],
   "source": [
    "class World:\n",
    "    def __init__(self, n_states: int, \n",
    "                 n_signals: int, n_actions: int, \n",
    "                 reward_mod=(1,1), seed: int = 0) -> None:\n",
    "        self.setup = (n_signals, n_actions)\n",
    "        self.pos, self.neg = reward_mod\n",
    "        self.positive, self.negative = reward_mod\n",
    "        self.n_states = n_states\n",
    "        self.state = 0\n",
    "        self.random = np.random.RandomState(seed)\n",
    "\n",
    "    def get_state(self) -> int:\n",
    "        self.state = self.random.randint(self.n_states)\n",
    "        return self.state\n",
    "\n",
    "    def evaluate(self, action: int) -> int:\n",
    "        step = self.n_states / self.setup[0]\n",
    "        correct = self.state // step\n",
    "        return self.pos if action == correct else self.neg\n"
   ]
  },
  {
   "cell_type": "code",
   "execution_count": 7,
   "metadata": {},
   "outputs": [],
   "source": [
    "class Sender:\n",
    "    def __init__(self, n_stimuli: int, n_signals: int, q_not: float = 1e-6) -> None:\n",
    "        # n_stimuli: number of possible states in the world,\n",
    "        #            each corresponding to a stimulus\n",
    "        # n_signals: number of signals that can be sent in response,\n",
    "        #            usually equal to the number of states in the world\n",
    "        # q_not:     initial signal propensity values. Final value of null signal.\n",
    "        self.n_signals = n_signals + 1      # +1 here represents null signal.\n",
    "        self.signal_weights = np.zeros((self.n_signals, n_stimuli))\n",
    "        self.signal_weights.fill(q_not)\n",
    "        self.last_situation = (0, 0)\n",
    "\n",
    "    def get_signal(self, stimulus: int) -> int:\n",
    "        # exponential calculation\n",
    "        num = np.exp(self.signal_weights[:, stimulus])\n",
    "        den = np.sum(np.exp(self.signal_weights[:, stimulus]))\n",
    "        probabilities = num / den\n",
    "        signal = np.random.choice(self.n_signals, p=probabilities)\n",
    "        if signal == self.n_signals-1:\n",
    "            # null action\n",
    "            return -1\n",
    "        self.last_situation = (stimulus, signal)\n",
    "        return signal\n",
    "\n",
    "    def update(self, reward: int) -> None:\n",
    "        # I am capping weight values at 308 due to overflow errors.\n",
    "        stimulus, signal = self.last_situation\n",
    "        self.signal_weights[signal, stimulus] += reward\n",
    "\n",
    "        # after updating the first weight, we must reinforce the surrouding weights\n",
    "        # using a gaussian distribution with a height of 1 and a width of 2\n",
    "        # so that stimulus+2 and stimulus-2 are updated with 1/2 the reward.\n",
    "        for i in range(1, 4):\n",
    "            r = reward * reward_dist(i)\n",
    "\n",
    "            # reward right\n",
    "            if stimulus + i < self.signal_weights.shape[1]:\n",
    "                q_last = self.signal_weights[signal, stimulus + i]\n",
    "                self.signal_weights[signal, stimulus +\n",
    "                                    i] = min(q_last + r, 308)\n",
    "\n",
    "            # reward left\n",
    "            if stimulus - i >= 0:\n",
    "                q_last = self.signal_weights[signal, stimulus - i]\n",
    "                self.signal_weights[signal, stimulus -\n",
    "                                    i] = min(q_last + r, 308)"
   ]
  },
  {
   "cell_type": "code",
   "execution_count": 8,
   "metadata": {},
   "outputs": [],
   "source": [
    "class Receiver:\n",
    "    def __init__(self, n_signals, n_actions, q_not: float = 1e-6) -> None:\n",
    "        # n_signals: number of signals that can be sent in response,\n",
    "        #            usually equal to the number of states in the world\n",
    "        # n_actions: number of actions that can be taken in response,\n",
    "        #            usually equal to the number of states in the world\n",
    "        # q_not:     initial action propensity value\n",
    "        self.n_actions = n_actions\n",
    "        self.action_weights = np.zeros((n_signals, n_actions))\n",
    "        self.action_weights.fill(q_not)\n",
    "        self.last_situation = (0, 0)\n",
    "\n",
    "    def get_action(self, signal: int) -> int:\n",
    "        # exponential calculation\n",
    "        num = np.exp(self.action_weights[signal, :])\n",
    "        den = np.sum(np.exp(self.action_weights[signal, :]))\n",
    "        probabilities = num / den\n",
    "        action = np.random.choice(self.n_actions, p=probabilities)\n",
    "        self.last_situation = (signal, action)\n",
    "\n",
    "        return action\n",
    "    \n",
    "    def update(self, reward: int) -> None:\n",
    "        signal, action = self.last_situation\n",
    "        q_last = self.action_weights[signal, action]\n",
    "        self.action_weights[signal, action] = min(q_last + reward, 308)"
   ]
  },
  {
   "attachments": {},
   "cell_type": "markdown",
   "metadata": {},
   "source": [
    "## Experiment Setup"
   ]
  },
  {
   "cell_type": "code",
   "execution_count": 13,
   "metadata": {},
   "outputs": [],
   "source": [
    "# constants\n",
    "positive_reward = 1   # \"Full reward\" for a success in some state. Modifier.\n",
    "negative_reward = -1  # \"Full reward\" for a failure in some state. Modifier.\n",
    "epochs = 4_000       # Number of epochs to train for\n",
    "seed = 0              # Random Number Generator seed. numpy algorithm.\n",
    "world_states = 20     # number of world states. evenly split among signals\n",
    "signals = 2           # number of signals sender can send (not including null)\n",
    "actions = 2           # number of actions reciever can respond with\n",
    "initial_q = 1         # initial propensities. final null action score.\n",
    "gif_fps = 10          # frames per second for gif\n",
    "\n",
    "rew = (positive_reward, negative_reward)\n",
    "# world states should be evenly divisible by action and signals\n",
    "assert world_states % signals == world_states % actions == 0"
   ]
  },
  {
   "cell_type": "code",
   "execution_count": 14,
   "metadata": {},
   "outputs": [],
   "source": [
    "# intialize world\n",
    "S = Sender(world_states, signals, initial_q)\n",
    "R = Receiver(signals, actions, initial_q)\n",
    "W = World(world_states, signals, actions, rew, seed)"
   ]
  },
  {
   "cell_type": "code",
   "execution_count": 15,
   "metadata": {},
   "outputs": [
    {
     "name": "stdout",
     "output_type": "stream",
     "text": [
      "Epoch 0, last 100 epochs reward: 0.01\n",
      "Epoch 100, last 100 epochs reward: 0.54\n",
      "Epoch 200, last 100 epochs reward: 1.0\n",
      "Epoch 300, last 100 epochs reward: 1.0\n",
      "Epoch 400, last 100 epochs reward: 1.0\n",
      "Epoch 500, last 100 epochs reward: 1.0\n",
      "Epoch 600, last 100 epochs reward: 1.0\n",
      "Epoch 700, last 100 epochs reward: 1.0\n",
      "Epoch 800, last 100 epochs reward: 1.0\n",
      "Epoch 900, last 100 epochs reward: 1.0\n",
      "Epoch 1000, last 100 epochs reward: 1.0\n",
      "Epoch 1100, last 100 epochs reward: 1.0\n",
      "Epoch 1200, last 100 epochs reward: 1.0\n",
      "Epoch 1300, last 100 epochs reward: 1.0\n",
      "Epoch 1400, last 100 epochs reward: 1.0\n",
      "Epoch 1500, last 100 epochs reward: 1.0\n",
      "Epoch 1600, last 100 epochs reward: 1.0\n",
      "Epoch 1700, last 100 epochs reward: 1.0\n",
      "Epoch 1800, last 100 epochs reward: 1.0\n",
      "Epoch 1900, last 100 epochs reward: 1.0\n",
      "Epoch 2000, last 100 epochs reward: 1.0\n",
      "Epoch 2100, last 100 epochs reward: 1.0\n",
      "Epoch 2200, last 100 epochs reward: 1.0\n",
      "Epoch 2300, last 100 epochs reward: 1.0\n",
      "Epoch 2400, last 100 epochs reward: 1.0\n",
      "Epoch 2500, last 100 epochs reward: 1.0\n",
      "Epoch 2600, last 100 epochs reward: 1.0\n",
      "Epoch 2700, last 100 epochs reward: 1.0\n",
      "Epoch 2800, last 100 epochs reward: 1.0\n",
      "Epoch 2900, last 100 epochs reward: 1.0\n",
      "Epoch 3000, last 100 epochs reward: 1.0\n",
      "Epoch 3100, last 100 epochs reward: 1.0\n",
      "Epoch 3200, last 100 epochs reward: 1.0\n",
      "Epoch 3300, last 100 epochs reward: 1.0\n",
      "Epoch 3400, last 100 epochs reward: 1.0\n",
      "Epoch 3500, last 100 epochs reward: 1.0\n",
      "Epoch 3600, last 100 epochs reward: 1.0\n",
      "Epoch 3700, last 100 epochs reward: 1.0\n",
      "Epoch 3800, last 100 epochs reward: 1.0\n",
      "Epoch 3900, last 100 epochs reward: 1.0\n"
     ]
    },
    {
     "data": {
      "text/plain": [
       "<Figure size 640x480 with 0 Axes>"
      ]
     },
     "metadata": {},
     "output_type": "display_data"
    }
   ],
   "source": [
    "# conduct experiment loop\n",
    "past_rewards = 0\n",
    "for epoch in range(epochs):\n",
    "    stimulus = W.get_state()\n",
    "    signal = S.get_signal(stimulus)\n",
    "    if signal != -1:\n",
    "        action = R.get_action(signal)\n",
    "        reward = W.evaluate(action)\n",
    "        past_rewards += reward\n",
    "        S.update(reward)\n",
    "        R.update(reward)\n",
    "    # else null action\n",
    "\n",
    "    if epoch % 25 == 0:\n",
    "        plt.tight_layout(pad=0)\n",
    "        plot = sns.heatmap(\n",
    "            np.exp(R.action_weights) /\n",
    "            np.exp(R.action_weights).sum(axis=0),\n",
    "            square=True, cbar=False, annot=True, fmt='.1f'\n",
    "        ).get_figure()\n",
    "        plt.xlabel('actions')\n",
    "        plt.ylabel('messages')\n",
    "        plt.title(f'Receiver\\'s weights, rollout {epoch}')\n",
    "        plt.savefig(f\"images/receiver_{epoch}.png\")\n",
    "        plt.clf()\n",
    "        \n",
    "        \n",
    "        plot = sns.heatmap(\n",
    "            np.exp(S.signal_weights) /\n",
    "            np.exp(S.signal_weights).sum(axis=0),\n",
    "            square=True, cbar=False, annot=True, fmt='.1f'\n",
    "        ).get_figure()\n",
    "        plt.ylabel('messages')\n",
    "        plt.xlabel('world states')\n",
    "        plt.title(f'Sender\\'s weights, rollout {epoch}')\n",
    "        plt.savefig(f\"images/sender_{epoch}.png\")\n",
    "        plt.clf()\n",
    "\n",
    "    if epoch % 100 == 0:\n",
    "        print(f'Epoch {epoch}, last 100 epochs reward: {past_rewards/100}')\n",
    "        past_rewards = 0\n",
    "\n",
    "    # TODO: reshape this early stop mechanism\n",
    "    # if early_stop(epochs, past_rewards):\n",
    "    #     break"
   ]
  },
  {
   "cell_type": "code",
   "execution_count": 18,
   "metadata": {},
   "outputs": [
    {
     "data": {
      "text/html": [
       "<img src=\"20-2-2-sender.gif\">"
      ],
      "text/plain": [
       "<IPython.core.display.HTML object>"
      ]
     },
     "metadata": {},
     "output_type": "display_data"
    }
   ],
   "source": [
    "make_gif(f'{world_states}-{actions}-{signals}-sender', epochs, seed, gif_fps)"
   ]
  },
  {
   "cell_type": "code",
   "execution_count": 19,
   "metadata": {},
   "outputs": [
    {
     "data": {
      "text/html": [
       "<img src=\"20-2-2-receiver.gif\">"
      ],
      "text/plain": [
       "<IPython.core.display.HTML object>"
      ]
     },
     "metadata": {},
     "output_type": "display_data"
    }
   ],
   "source": [
    "make_gif(f'{world_states}-{actions}-{signals}-receiver', epochs, seed, gif_fps)"
   ]
  },
  {
   "cell_type": "code",
   "execution_count": 20,
   "metadata": {},
   "outputs": [
    {
     "name": "stdout",
     "output_type": "stream",
     "text": [
      "Observation to message mapping:\n",
      "[1 1 1 1 1 1 1 1 1 0 0 0 0 0 0 0 0 0 0 0]\n",
      "Message to action mapping:\n",
      "[1 0]\n"
     ]
    }
   ],
   "source": [
    "print(\"Observation to message mapping:\")\n",
    "print(S.signal_weights.argmax(0))\n",
    "print(\"Message to action mapping:\")\n",
    "print(R.action_weights.argmax(1))"
   ]
  }
 ],
 "metadata": {
  "kernelspec": {
   "display_name": "signal",
   "language": "python",
   "name": "python3"
  },
  "language_info": {
   "codemirror_mode": {
    "name": "ipython",
    "version": 3
   },
   "file_extension": ".py",
   "mimetype": "text/x-python",
   "name": "python",
   "nbconvert_exporter": "python",
   "pygments_lexer": "ipython3",
   "version": "3.10.9"
  },
  "orig_nbformat": 4,
  "vscode": {
   "interpreter": {
    "hash": "6cc53ca4bcaf722c762c264fce9851c096d2b4ce79674ffe56f966359a856f76"
   }
  }
 },
 "nbformat": 4,
 "nbformat_minor": 2
}
