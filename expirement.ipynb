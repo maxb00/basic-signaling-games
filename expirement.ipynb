{
 "cells": [
  {
   "attachments": {},
   "cell_type": "markdown",
   "metadata": {},
   "source": [
    "# Basic Lewis Signaling Games\n",
    "Employs Roth-Erev (Herrnstein) learning."
   ]
  },
  {
   "cell_type": "code",
   "execution_count": 74,
   "metadata": {},
   "outputs": [],
   "source": [
    "from game import World, Sender, Receiver\n",
    "import numpy as np\n",
    "import matplotlib.pyplot as plt\n",
    "import seaborn as sns\n",
    "import imageio.v2 as imageio\n",
    "from IPython.display import HTML\n",
    "from time import time"
   ]
  },
  {
   "cell_type": "code",
   "execution_count": 65,
   "metadata": {},
   "outputs": [],
   "source": [
    "# define constants\n",
    "epochs = 1000\n",
    "# seed = np.floor(time()).astype(int)\n",
    "seed = 0\n",
    "states = 3\n",
    "actions = 3\n",
    "signals = 3\n",
    "initial_weights = 1e-6"
   ]
  },
  {
   "cell_type": "code",
   "execution_count": 72,
   "metadata": {},
   "outputs": [],
   "source": [
    "def make_gif(filename_base):\n",
    "    images = []\n",
    "    nm = filename_base.split('-')[-1]\n",
    "    for filename in [f'images/{nm}_{i}.png' for i in range(epochs) if i % 25 == 0]:\n",
    "        images.append(imageio.imread(filename))\n",
    "    imageio.mimsave(f'{filename_base}.gif', images, fps=6)\n",
    "    # display(Image(filename=f'{filename_base}.gif'))\n",
    "    display(HTML('<img src=\"{}\">'.format(f'{filename_base}.gif')))\n"
   ]
  },
  {
   "attachments": {},
   "cell_type": "markdown",
   "metadata": {},
   "source": [
    "## Experiment"
   ]
  },
  {
   "cell_type": "code",
   "execution_count": 67,
   "metadata": {},
   "outputs": [],
   "source": [
    "W = World(states, seed)\n",
    "S = Sender(states, signals, q_not=initial_weights)\n",
    "R = Receiver(signals, actions, q_not=initial_weights)\n",
    "\n",
    "past_rewards = 0\n",
    "matrices = []"
   ]
  },
  {
   "cell_type": "code",
   "execution_count": 68,
   "metadata": {},
   "outputs": [
    {
     "name": "stdout",
     "output_type": "stream",
     "text": [
      "Epoch 0, last 100 epochs reward: 0.01\n",
      "Last State: 0, Signal: 0, Action: 0, Reward: 1\n",
      "Epoch 100, last 100 epochs reward: 0.66\n",
      "Last State: 2, Signal: 0, Action: 2, Reward: 1\n",
      "Epoch 200, last 100 epochs reward: 1.0\n",
      "Last State: 0, Signal: 2, Action: 0, Reward: 1\n",
      "Epoch 300, last 100 epochs reward: 1.0\n",
      "Last State: 1, Signal: 1, Action: 1, Reward: 1\n",
      "Epoch 400, last 100 epochs reward: 1.0\n",
      "Last State: 1, Signal: 1, Action: 1, Reward: 1\n",
      "Epoch 500, last 100 epochs reward: 1.0\n",
      "Last State: 2, Signal: 0, Action: 2, Reward: 1\n",
      "Epoch 600, last 100 epochs reward: 1.0\n",
      "Last State: 2, Signal: 0, Action: 2, Reward: 1\n",
      "Epoch 700, last 100 epochs reward: 1.0\n",
      "Last State: 1, Signal: 1, Action: 1, Reward: 1\n",
      "Epoch 800, last 100 epochs reward: 1.0\n",
      "Last State: 2, Signal: 0, Action: 2, Reward: 1\n",
      "Epoch 900, last 100 epochs reward: 1.0\n",
      "Last State: 0, Signal: 2, Action: 0, Reward: 1\n"
     ]
    },
    {
     "data": {
      "text/plain": [
       "<Figure size 640x480 with 0 Axes>"
      ]
     },
     "metadata": {},
     "output_type": "display_data"
    }
   ],
   "source": [
    "for epoch in range(epochs):\n",
    "    stimulus = W.get_state()\n",
    "    signal = S.get_signal(stimulus)\n",
    "    action = R.get_action(signal)\n",
    "    reward = W.evaluate(action)\n",
    "    past_rewards += reward\n",
    "    S.update(reward)\n",
    "    R.update(reward)\n",
    "\n",
    "    if epoch % 25 == 0:\n",
    "        plt.tight_layout(pad=0)\n",
    "        plot = sns.heatmap(\n",
    "            np.exp(R.action_weights) /\n",
    "            np.exp(R.action_weights).sum(axis=0),\n",
    "            square=True, cbar=False, annot=True, fmt='.1f'\n",
    "        ).get_figure()\n",
    "        plt.xlabel('messages')\n",
    "        plt.ylabel('actions')\n",
    "        plt.title(f'Receiver\\'s weights, rollout {epoch}')\n",
    "        plt.savefig(f\"images/receiver_{epoch}.png\")\n",
    "        plt.clf()\n",
    "\n",
    "        plot = sns.heatmap(\n",
    "            np.exp(S.signal_weights) /\n",
    "            np.exp(S.signal_weights).sum(axis=0),\n",
    "            square=True, cbar=False, annot=True, fmt='.1f'\n",
    "        ).get_figure()\n",
    "        plt.xlabel('world states')\n",
    "        plt.ylabel('messages')\n",
    "        plt.title(f'Sender\\'s weights, rollout {epoch}')\n",
    "        plt.savefig(f\"images/sender_{epoch}.png\")\n",
    "        plt.clf()\n",
    "\n",
    "    if epoch % 100 == 0:\n",
    "        print(f'Epoch {epoch}, last 100 epochs reward: {past_rewards/100}')\n",
    "        print(f\"Last State: {stimulus}, Signal: {signal}, Action: {action}, Reward: {reward}\")\n",
    "        past_rewards = 0"
   ]
  },
  {
   "cell_type": "code",
   "execution_count": 75,
   "metadata": {},
   "outputs": [
    {
     "data": {
      "text/html": [
       "<img src=\"3-3-3-sender.gif\">"
      ],
      "text/plain": [
       "<IPython.core.display.HTML object>"
      ]
     },
     "metadata": {},
     "output_type": "display_data"
    }
   ],
   "source": [
    "make_gif(f'{states}-{actions}-{signals}-sender')"
   ]
  },
  {
   "cell_type": "code",
   "execution_count": 76,
   "metadata": {},
   "outputs": [
    {
     "data": {
      "text/html": [
       "<img src=\"3-3-3-receiver.gif\">"
      ],
      "text/plain": [
       "<IPython.core.display.HTML object>"
      ]
     },
     "metadata": {},
     "output_type": "display_data"
    }
   ],
   "source": [
    "make_gif(f'{states}-{actions}-{signals}-receiver')"
   ]
  },
  {
   "cell_type": "code",
   "execution_count": 71,
   "metadata": {},
   "outputs": [
    {
     "name": "stdout",
     "output_type": "stream",
     "text": [
      "Observation to message mapping:\n",
      "[2 1 0]\n",
      "Message to action mapping:\n",
      "[2 1 0]\n"
     ]
    }
   ],
   "source": [
    "print(\"Observation to message mapping:\")\n",
    "print(S.signal_weights.argmax(1))\n",
    "print(\"Message to action mapping:\")\n",
    "print(R.action_weights.argmax(1))"
   ]
  }
 ],
 "metadata": {
  "kernelspec": {
   "display_name": "signal",
   "language": "python",
   "name": "python3"
  },
  "language_info": {
   "codemirror_mode": {
    "name": "ipython",
    "version": 3
   },
   "file_extension": ".py",
   "mimetype": "text/x-python",
   "name": "python",
   "nbconvert_exporter": "python",
   "pygments_lexer": "ipython3",
   "version": "3.10.9"
  },
  "orig_nbformat": 4,
  "vscode": {
   "interpreter": {
    "hash": "6cc53ca4bcaf722c762c264fce9851c096d2b4ce79674ffe56f966359a856f76"
   }
  }
 },
 "nbformat": 4,
 "nbformat_minor": 2
}
